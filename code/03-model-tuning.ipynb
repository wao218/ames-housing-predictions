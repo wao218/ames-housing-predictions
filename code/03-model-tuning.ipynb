{
 "cells": [
  {
   "cell_type": "markdown",
   "id": "4752d45f-7666-4063-a5b2-be3a28d2c6e3",
   "metadata": {},
   "source": [
    "<img src=\"http://imgur.com/1ZcRyrc.png\" style=\"float: left; margin: 20px; height: 55px\">\n",
    "\n",
    "# Project 2: Ames Housing Data and Kaggle Challenge\n",
    "\n",
    "---\n",
    "## Problem Statement\n",
    "\n",
    "Keller Williams Ames wants to gain a competive advantage against other brokerages in the area. They want to predict the sale price of new homes on the market, to help both their seller agents and buyer agents provide unmatched service to their clients."
   ]
  },
  {
   "cell_type": "markdown",
   "id": "99f71ff0-8e8e-4ef1-b392-50b212b58bf6",
   "metadata": {},
   "source": [
    "### Contents:\n",
    "- [Model 1: Scaled Benchmarked Model](#Model-1:-Scaled-Benchmarked-Model)\n",
    "- [Model 2: All Positively Correlated Data to Sale Price](#Model-2:-All-Positively-Correlated-Data-to-Sale-Price)\n",
    "- [Model 3: Add Categorical Features](#Model-3:-Add-Categorical-Features)\n",
    "- [Model 4: Remove Features](#Model-4:-Remove-Features)\n",
    "\n",
    "---"
   ]
  },
  {
   "cell_type": "code",
   "execution_count": 1,
   "id": "a921d00b-2f2d-4381-a57a-4a845ad6242f",
   "metadata": {},
   "outputs": [],
   "source": [
    "# imports\n",
    "import pandas as pd\n",
    "import numpy as np\n",
    "import matplotlib.pyplot as plt\n",
    "import seaborn as sns\n",
    "from sklearn.linear_model import LinearRegression\n",
    "from sklearn.model_selection import train_test_split, cross_val_score\n",
    "from sklearn.model_selection import cross_val_predict\n",
    "from sklearn.metrics import mean_squared_error, r2_score, mean_absolute_error\n",
    "from sklearn.preprocessing import StandardScaler, OneHotEncoder\n",
    "%matplotlib inline\n",
    "\n",
    "pd.set_option('display.max_columns', 100)\n",
    "pd.set_option('display.max_rows', 100)"
   ]
  },
  {
   "cell_type": "code",
   "execution_count": 2,
   "id": "5d321339-1461-4718-8c11-076a187d07b3",
   "metadata": {},
   "outputs": [
    {
     "data": {
      "text/html": [
       "<div>\n",
       "<style scoped>\n",
       "    .dataframe tbody tr th:only-of-type {\n",
       "        vertical-align: middle;\n",
       "    }\n",
       "\n",
       "    .dataframe tbody tr th {\n",
       "        vertical-align: top;\n",
       "    }\n",
       "\n",
       "    .dataframe thead th {\n",
       "        text-align: right;\n",
       "    }\n",
       "</style>\n",
       "<table border=\"1\" class=\"dataframe\">\n",
       "  <thead>\n",
       "    <tr style=\"text-align: right;\">\n",
       "      <th></th>\n",
       "      <th>id</th>\n",
       "      <th>lot_frontage</th>\n",
       "      <th>lot_area</th>\n",
       "      <th>overall_qual</th>\n",
       "      <th>overall_cond</th>\n",
       "      <th>year_built</th>\n",
       "      <th>year_remod/add</th>\n",
       "      <th>mas_vnr_area</th>\n",
       "      <th>bsmtfin_sf_1</th>\n",
       "      <th>bsmtfin_sf_2</th>\n",
       "      <th>bsmt_unf_sf</th>\n",
       "      <th>total_bsmt_sf</th>\n",
       "      <th>1st_flr_sf</th>\n",
       "      <th>2nd_flr_sf</th>\n",
       "      <th>low_qual_fin_sf</th>\n",
       "      <th>gr_liv_area</th>\n",
       "      <th>bsmt_full_bath</th>\n",
       "      <th>bsmt_half_bath</th>\n",
       "      <th>full_bath</th>\n",
       "      <th>half_bath</th>\n",
       "      <th>bedroom_abvgr</th>\n",
       "      <th>kitchen_abvgr</th>\n",
       "      <th>totrms_abvgrd</th>\n",
       "      <th>fireplaces</th>\n",
       "      <th>garage_yr_blt</th>\n",
       "      <th>garage_cars</th>\n",
       "      <th>garage_area</th>\n",
       "      <th>wood_deck_sf</th>\n",
       "      <th>open_porch_sf</th>\n",
       "      <th>enclosed_porch</th>\n",
       "      <th>3ssn_porch</th>\n",
       "      <th>screen_porch</th>\n",
       "      <th>pool_area</th>\n",
       "      <th>misc_val</th>\n",
       "      <th>mo_sold</th>\n",
       "      <th>yr_sold</th>\n",
       "      <th>saleprice</th>\n",
       "      <th>pid</th>\n",
       "      <th>ms_subclass</th>\n",
       "      <th>ms_zoning</th>\n",
       "      <th>street</th>\n",
       "      <th>alley</th>\n",
       "      <th>lot_shape</th>\n",
       "      <th>land_contour</th>\n",
       "      <th>utilities</th>\n",
       "      <th>lot_config</th>\n",
       "      <th>land_slope</th>\n",
       "      <th>neighborhood</th>\n",
       "      <th>condition_1</th>\n",
       "      <th>condition_2</th>\n",
       "      <th>bldg_type</th>\n",
       "      <th>house_style</th>\n",
       "      <th>roof_style</th>\n",
       "      <th>roof_matl</th>\n",
       "      <th>exterior_1st</th>\n",
       "      <th>exterior_2nd</th>\n",
       "      <th>mas_vnr_type</th>\n",
       "      <th>exter_qual</th>\n",
       "      <th>exter_cond</th>\n",
       "      <th>foundation</th>\n",
       "      <th>bsmt_qual</th>\n",
       "      <th>bsmt_cond</th>\n",
       "      <th>bsmt_exposure</th>\n",
       "      <th>bsmtfin_type_1</th>\n",
       "      <th>bsmtfin_type_2</th>\n",
       "      <th>heating</th>\n",
       "      <th>heating_qc</th>\n",
       "      <th>central_air</th>\n",
       "      <th>electrical</th>\n",
       "      <th>kitchen_qual</th>\n",
       "      <th>functional</th>\n",
       "      <th>fireplace_qu</th>\n",
       "      <th>garage_type</th>\n",
       "      <th>garage_finish</th>\n",
       "      <th>garage_qual</th>\n",
       "      <th>garage_cond</th>\n",
       "      <th>paved_drive</th>\n",
       "      <th>pool_qc</th>\n",
       "      <th>fence</th>\n",
       "      <th>misc_feature</th>\n",
       "      <th>sale_type</th>\n",
       "    </tr>\n",
       "  </thead>\n",
       "  <tbody>\n",
       "    <tr>\n",
       "      <th>0</th>\n",
       "      <td>109</td>\n",
       "      <td>69.0552</td>\n",
       "      <td>13517.0</td>\n",
       "      <td>6.0</td>\n",
       "      <td>8.0</td>\n",
       "      <td>1976.0</td>\n",
       "      <td>2005.0</td>\n",
       "      <td>289.0</td>\n",
       "      <td>533.0</td>\n",
       "      <td>0.0</td>\n",
       "      <td>192.0</td>\n",
       "      <td>725.0</td>\n",
       "      <td>725.0</td>\n",
       "      <td>754.0</td>\n",
       "      <td>0.0</td>\n",
       "      <td>1479.0</td>\n",
       "      <td>0.0</td>\n",
       "      <td>0.0</td>\n",
       "      <td>2.0</td>\n",
       "      <td>1.0</td>\n",
       "      <td>3.0</td>\n",
       "      <td>1.0</td>\n",
       "      <td>6.0</td>\n",
       "      <td>0.0</td>\n",
       "      <td>1976.0</td>\n",
       "      <td>2.0</td>\n",
       "      <td>475.0</td>\n",
       "      <td>0.0</td>\n",
       "      <td>44.0</td>\n",
       "      <td>0.0</td>\n",
       "      <td>0.0</td>\n",
       "      <td>0.0</td>\n",
       "      <td>0.0</td>\n",
       "      <td>0.0</td>\n",
       "      <td>3.0</td>\n",
       "      <td>2010.0</td>\n",
       "      <td>130500.0</td>\n",
       "      <td>533352170</td>\n",
       "      <td>60</td>\n",
       "      <td>RL</td>\n",
       "      <td>Pave</td>\n",
       "      <td>None</td>\n",
       "      <td>IR1</td>\n",
       "      <td>Lvl</td>\n",
       "      <td>AllPub</td>\n",
       "      <td>CulDSac</td>\n",
       "      <td>Gtl</td>\n",
       "      <td>Sawyer</td>\n",
       "      <td>RRAe</td>\n",
       "      <td>Norm</td>\n",
       "      <td>1Fam</td>\n",
       "      <td>2Story</td>\n",
       "      <td>Gable</td>\n",
       "      <td>CompShg</td>\n",
       "      <td>HdBoard</td>\n",
       "      <td>Plywood</td>\n",
       "      <td>BrkFace</td>\n",
       "      <td>Gd</td>\n",
       "      <td>TA</td>\n",
       "      <td>CBlock</td>\n",
       "      <td>TA</td>\n",
       "      <td>TA</td>\n",
       "      <td>No</td>\n",
       "      <td>GLQ</td>\n",
       "      <td>Unf</td>\n",
       "      <td>GasA</td>\n",
       "      <td>Ex</td>\n",
       "      <td>Y</td>\n",
       "      <td>SBrkr</td>\n",
       "      <td>Gd</td>\n",
       "      <td>Typ</td>\n",
       "      <td>None</td>\n",
       "      <td>Attchd</td>\n",
       "      <td>RFn</td>\n",
       "      <td>TA</td>\n",
       "      <td>TA</td>\n",
       "      <td>Y</td>\n",
       "      <td>None</td>\n",
       "      <td>None</td>\n",
       "      <td>None</td>\n",
       "      <td>WD</td>\n",
       "    </tr>\n",
       "    <tr>\n",
       "      <th>1</th>\n",
       "      <td>544</td>\n",
       "      <td>43.0000</td>\n",
       "      <td>11492.0</td>\n",
       "      <td>7.0</td>\n",
       "      <td>5.0</td>\n",
       "      <td>1996.0</td>\n",
       "      <td>1997.0</td>\n",
       "      <td>132.0</td>\n",
       "      <td>637.0</td>\n",
       "      <td>0.0</td>\n",
       "      <td>276.0</td>\n",
       "      <td>913.0</td>\n",
       "      <td>913.0</td>\n",
       "      <td>1209.0</td>\n",
       "      <td>0.0</td>\n",
       "      <td>2122.0</td>\n",
       "      <td>1.0</td>\n",
       "      <td>0.0</td>\n",
       "      <td>2.0</td>\n",
       "      <td>1.0</td>\n",
       "      <td>4.0</td>\n",
       "      <td>1.0</td>\n",
       "      <td>8.0</td>\n",
       "      <td>1.0</td>\n",
       "      <td>1997.0</td>\n",
       "      <td>2.0</td>\n",
       "      <td>559.0</td>\n",
       "      <td>0.0</td>\n",
       "      <td>74.0</td>\n",
       "      <td>0.0</td>\n",
       "      <td>0.0</td>\n",
       "      <td>0.0</td>\n",
       "      <td>0.0</td>\n",
       "      <td>0.0</td>\n",
       "      <td>4.0</td>\n",
       "      <td>2009.0</td>\n",
       "      <td>220000.0</td>\n",
       "      <td>531379050</td>\n",
       "      <td>60</td>\n",
       "      <td>RL</td>\n",
       "      <td>Pave</td>\n",
       "      <td>None</td>\n",
       "      <td>IR1</td>\n",
       "      <td>Lvl</td>\n",
       "      <td>AllPub</td>\n",
       "      <td>CulDSac</td>\n",
       "      <td>Gtl</td>\n",
       "      <td>SawyerW</td>\n",
       "      <td>Norm</td>\n",
       "      <td>Norm</td>\n",
       "      <td>1Fam</td>\n",
       "      <td>2Story</td>\n",
       "      <td>Gable</td>\n",
       "      <td>CompShg</td>\n",
       "      <td>VinylSd</td>\n",
       "      <td>VinylSd</td>\n",
       "      <td>BrkFace</td>\n",
       "      <td>Gd</td>\n",
       "      <td>TA</td>\n",
       "      <td>PConc</td>\n",
       "      <td>Gd</td>\n",
       "      <td>TA</td>\n",
       "      <td>No</td>\n",
       "      <td>GLQ</td>\n",
       "      <td>Unf</td>\n",
       "      <td>GasA</td>\n",
       "      <td>Ex</td>\n",
       "      <td>Y</td>\n",
       "      <td>SBrkr</td>\n",
       "      <td>Gd</td>\n",
       "      <td>Typ</td>\n",
       "      <td>TA</td>\n",
       "      <td>Attchd</td>\n",
       "      <td>RFn</td>\n",
       "      <td>TA</td>\n",
       "      <td>TA</td>\n",
       "      <td>Y</td>\n",
       "      <td>None</td>\n",
       "      <td>None</td>\n",
       "      <td>None</td>\n",
       "      <td>WD</td>\n",
       "    </tr>\n",
       "    <tr>\n",
       "      <th>2</th>\n",
       "      <td>153</td>\n",
       "      <td>68.0000</td>\n",
       "      <td>7922.0</td>\n",
       "      <td>5.0</td>\n",
       "      <td>7.0</td>\n",
       "      <td>1953.0</td>\n",
       "      <td>2007.0</td>\n",
       "      <td>0.0</td>\n",
       "      <td>731.0</td>\n",
       "      <td>0.0</td>\n",
       "      <td>326.0</td>\n",
       "      <td>1057.0</td>\n",
       "      <td>1057.0</td>\n",
       "      <td>0.0</td>\n",
       "      <td>0.0</td>\n",
       "      <td>1057.0</td>\n",
       "      <td>1.0</td>\n",
       "      <td>0.0</td>\n",
       "      <td>1.0</td>\n",
       "      <td>0.0</td>\n",
       "      <td>3.0</td>\n",
       "      <td>1.0</td>\n",
       "      <td>5.0</td>\n",
       "      <td>0.0</td>\n",
       "      <td>1953.0</td>\n",
       "      <td>1.0</td>\n",
       "      <td>246.0</td>\n",
       "      <td>0.0</td>\n",
       "      <td>52.0</td>\n",
       "      <td>0.0</td>\n",
       "      <td>0.0</td>\n",
       "      <td>0.0</td>\n",
       "      <td>0.0</td>\n",
       "      <td>0.0</td>\n",
       "      <td>1.0</td>\n",
       "      <td>2010.0</td>\n",
       "      <td>109000.0</td>\n",
       "      <td>535304180</td>\n",
       "      <td>20</td>\n",
       "      <td>RL</td>\n",
       "      <td>Pave</td>\n",
       "      <td>None</td>\n",
       "      <td>Reg</td>\n",
       "      <td>Lvl</td>\n",
       "      <td>AllPub</td>\n",
       "      <td>Inside</td>\n",
       "      <td>Gtl</td>\n",
       "      <td>NAmes</td>\n",
       "      <td>Norm</td>\n",
       "      <td>Norm</td>\n",
       "      <td>1Fam</td>\n",
       "      <td>1Story</td>\n",
       "      <td>Gable</td>\n",
       "      <td>CompShg</td>\n",
       "      <td>VinylSd</td>\n",
       "      <td>VinylSd</td>\n",
       "      <td>None</td>\n",
       "      <td>TA</td>\n",
       "      <td>Gd</td>\n",
       "      <td>CBlock</td>\n",
       "      <td>TA</td>\n",
       "      <td>TA</td>\n",
       "      <td>No</td>\n",
       "      <td>GLQ</td>\n",
       "      <td>Unf</td>\n",
       "      <td>GasA</td>\n",
       "      <td>TA</td>\n",
       "      <td>Y</td>\n",
       "      <td>SBrkr</td>\n",
       "      <td>Gd</td>\n",
       "      <td>Typ</td>\n",
       "      <td>None</td>\n",
       "      <td>Detchd</td>\n",
       "      <td>Unf</td>\n",
       "      <td>TA</td>\n",
       "      <td>TA</td>\n",
       "      <td>Y</td>\n",
       "      <td>None</td>\n",
       "      <td>None</td>\n",
       "      <td>None</td>\n",
       "      <td>WD</td>\n",
       "    </tr>\n",
       "    <tr>\n",
       "      <th>3</th>\n",
       "      <td>318</td>\n",
       "      <td>73.0000</td>\n",
       "      <td>9802.0</td>\n",
       "      <td>5.0</td>\n",
       "      <td>5.0</td>\n",
       "      <td>2006.0</td>\n",
       "      <td>2007.0</td>\n",
       "      <td>0.0</td>\n",
       "      <td>0.0</td>\n",
       "      <td>0.0</td>\n",
       "      <td>384.0</td>\n",
       "      <td>384.0</td>\n",
       "      <td>744.0</td>\n",
       "      <td>700.0</td>\n",
       "      <td>0.0</td>\n",
       "      <td>1444.0</td>\n",
       "      <td>0.0</td>\n",
       "      <td>0.0</td>\n",
       "      <td>2.0</td>\n",
       "      <td>1.0</td>\n",
       "      <td>3.0</td>\n",
       "      <td>1.0</td>\n",
       "      <td>7.0</td>\n",
       "      <td>0.0</td>\n",
       "      <td>2007.0</td>\n",
       "      <td>2.0</td>\n",
       "      <td>400.0</td>\n",
       "      <td>100.0</td>\n",
       "      <td>0.0</td>\n",
       "      <td>0.0</td>\n",
       "      <td>0.0</td>\n",
       "      <td>0.0</td>\n",
       "      <td>0.0</td>\n",
       "      <td>0.0</td>\n",
       "      <td>4.0</td>\n",
       "      <td>2010.0</td>\n",
       "      <td>174000.0</td>\n",
       "      <td>916386060</td>\n",
       "      <td>60</td>\n",
       "      <td>RL</td>\n",
       "      <td>Pave</td>\n",
       "      <td>None</td>\n",
       "      <td>Reg</td>\n",
       "      <td>Lvl</td>\n",
       "      <td>AllPub</td>\n",
       "      <td>Inside</td>\n",
       "      <td>Gtl</td>\n",
       "      <td>Timber</td>\n",
       "      <td>Norm</td>\n",
       "      <td>Norm</td>\n",
       "      <td>1Fam</td>\n",
       "      <td>2Story</td>\n",
       "      <td>Gable</td>\n",
       "      <td>CompShg</td>\n",
       "      <td>VinylSd</td>\n",
       "      <td>VinylSd</td>\n",
       "      <td>None</td>\n",
       "      <td>TA</td>\n",
       "      <td>TA</td>\n",
       "      <td>PConc</td>\n",
       "      <td>Gd</td>\n",
       "      <td>TA</td>\n",
       "      <td>No</td>\n",
       "      <td>Unf</td>\n",
       "      <td>Unf</td>\n",
       "      <td>GasA</td>\n",
       "      <td>Gd</td>\n",
       "      <td>Y</td>\n",
       "      <td>SBrkr</td>\n",
       "      <td>TA</td>\n",
       "      <td>Typ</td>\n",
       "      <td>None</td>\n",
       "      <td>BuiltIn</td>\n",
       "      <td>Fin</td>\n",
       "      <td>TA</td>\n",
       "      <td>TA</td>\n",
       "      <td>Y</td>\n",
       "      <td>None</td>\n",
       "      <td>None</td>\n",
       "      <td>None</td>\n",
       "      <td>WD</td>\n",
       "    </tr>\n",
       "    <tr>\n",
       "      <th>4</th>\n",
       "      <td>255</td>\n",
       "      <td>82.0000</td>\n",
       "      <td>14235.0</td>\n",
       "      <td>6.0</td>\n",
       "      <td>8.0</td>\n",
       "      <td>1900.0</td>\n",
       "      <td>1993.0</td>\n",
       "      <td>0.0</td>\n",
       "      <td>0.0</td>\n",
       "      <td>0.0</td>\n",
       "      <td>676.0</td>\n",
       "      <td>676.0</td>\n",
       "      <td>831.0</td>\n",
       "      <td>614.0</td>\n",
       "      <td>0.0</td>\n",
       "      <td>1445.0</td>\n",
       "      <td>0.0</td>\n",
       "      <td>0.0</td>\n",
       "      <td>2.0</td>\n",
       "      <td>0.0</td>\n",
       "      <td>3.0</td>\n",
       "      <td>1.0</td>\n",
       "      <td>6.0</td>\n",
       "      <td>0.0</td>\n",
       "      <td>1957.0</td>\n",
       "      <td>2.0</td>\n",
       "      <td>484.0</td>\n",
       "      <td>0.0</td>\n",
       "      <td>59.0</td>\n",
       "      <td>0.0</td>\n",
       "      <td>0.0</td>\n",
       "      <td>0.0</td>\n",
       "      <td>0.0</td>\n",
       "      <td>0.0</td>\n",
       "      <td>3.0</td>\n",
       "      <td>2010.0</td>\n",
       "      <td>138500.0</td>\n",
       "      <td>906425045</td>\n",
       "      <td>50</td>\n",
       "      <td>RL</td>\n",
       "      <td>Pave</td>\n",
       "      <td>None</td>\n",
       "      <td>IR1</td>\n",
       "      <td>Lvl</td>\n",
       "      <td>AllPub</td>\n",
       "      <td>Inside</td>\n",
       "      <td>Gtl</td>\n",
       "      <td>SawyerW</td>\n",
       "      <td>Norm</td>\n",
       "      <td>Norm</td>\n",
       "      <td>1Fam</td>\n",
       "      <td>1.5Fin</td>\n",
       "      <td>Gable</td>\n",
       "      <td>CompShg</td>\n",
       "      <td>Wd Sdng</td>\n",
       "      <td>Plywood</td>\n",
       "      <td>None</td>\n",
       "      <td>TA</td>\n",
       "      <td>TA</td>\n",
       "      <td>PConc</td>\n",
       "      <td>Fa</td>\n",
       "      <td>Gd</td>\n",
       "      <td>No</td>\n",
       "      <td>Unf</td>\n",
       "      <td>Unf</td>\n",
       "      <td>GasA</td>\n",
       "      <td>TA</td>\n",
       "      <td>Y</td>\n",
       "      <td>SBrkr</td>\n",
       "      <td>TA</td>\n",
       "      <td>Typ</td>\n",
       "      <td>None</td>\n",
       "      <td>Detchd</td>\n",
       "      <td>Unf</td>\n",
       "      <td>TA</td>\n",
       "      <td>TA</td>\n",
       "      <td>N</td>\n",
       "      <td>None</td>\n",
       "      <td>None</td>\n",
       "      <td>None</td>\n",
       "      <td>WD</td>\n",
       "    </tr>\n",
       "  </tbody>\n",
       "</table>\n",
       "</div>"
      ],
      "text/plain": [
       "    id  lot_frontage  lot_area  overall_qual  overall_cond  year_built  \\\n",
       "0  109       69.0552   13517.0           6.0           8.0      1976.0   \n",
       "1  544       43.0000   11492.0           7.0           5.0      1996.0   \n",
       "2  153       68.0000    7922.0           5.0           7.0      1953.0   \n",
       "3  318       73.0000    9802.0           5.0           5.0      2006.0   \n",
       "4  255       82.0000   14235.0           6.0           8.0      1900.0   \n",
       "\n",
       "   year_remod/add  mas_vnr_area  bsmtfin_sf_1  bsmtfin_sf_2  bsmt_unf_sf  \\\n",
       "0          2005.0         289.0         533.0           0.0        192.0   \n",
       "1          1997.0         132.0         637.0           0.0        276.0   \n",
       "2          2007.0           0.0         731.0           0.0        326.0   \n",
       "3          2007.0           0.0           0.0           0.0        384.0   \n",
       "4          1993.0           0.0           0.0           0.0        676.0   \n",
       "\n",
       "   total_bsmt_sf  1st_flr_sf  2nd_flr_sf  low_qual_fin_sf  gr_liv_area  \\\n",
       "0          725.0       725.0       754.0              0.0       1479.0   \n",
       "1          913.0       913.0      1209.0              0.0       2122.0   \n",
       "2         1057.0      1057.0         0.0              0.0       1057.0   \n",
       "3          384.0       744.0       700.0              0.0       1444.0   \n",
       "4          676.0       831.0       614.0              0.0       1445.0   \n",
       "\n",
       "   bsmt_full_bath  bsmt_half_bath  full_bath  half_bath  bedroom_abvgr  \\\n",
       "0             0.0             0.0        2.0        1.0            3.0   \n",
       "1             1.0             0.0        2.0        1.0            4.0   \n",
       "2             1.0             0.0        1.0        0.0            3.0   \n",
       "3             0.0             0.0        2.0        1.0            3.0   \n",
       "4             0.0             0.0        2.0        0.0            3.0   \n",
       "\n",
       "   kitchen_abvgr  totrms_abvgrd  fireplaces  garage_yr_blt  garage_cars  \\\n",
       "0            1.0            6.0         0.0         1976.0          2.0   \n",
       "1            1.0            8.0         1.0         1997.0          2.0   \n",
       "2            1.0            5.0         0.0         1953.0          1.0   \n",
       "3            1.0            7.0         0.0         2007.0          2.0   \n",
       "4            1.0            6.0         0.0         1957.0          2.0   \n",
       "\n",
       "   garage_area  wood_deck_sf  open_porch_sf  enclosed_porch  3ssn_porch  \\\n",
       "0        475.0           0.0           44.0             0.0         0.0   \n",
       "1        559.0           0.0           74.0             0.0         0.0   \n",
       "2        246.0           0.0           52.0             0.0         0.0   \n",
       "3        400.0         100.0            0.0             0.0         0.0   \n",
       "4        484.0           0.0           59.0             0.0         0.0   \n",
       "\n",
       "   screen_porch  pool_area  misc_val  mo_sold  yr_sold  saleprice        pid  \\\n",
       "0           0.0        0.0       0.0      3.0   2010.0   130500.0  533352170   \n",
       "1           0.0        0.0       0.0      4.0   2009.0   220000.0  531379050   \n",
       "2           0.0        0.0       0.0      1.0   2010.0   109000.0  535304180   \n",
       "3           0.0        0.0       0.0      4.0   2010.0   174000.0  916386060   \n",
       "4           0.0        0.0       0.0      3.0   2010.0   138500.0  906425045   \n",
       "\n",
       "  ms_subclass ms_zoning street alley lot_shape land_contour utilities  \\\n",
       "0          60        RL   Pave  None       IR1          Lvl    AllPub   \n",
       "1          60        RL   Pave  None       IR1          Lvl    AllPub   \n",
       "2          20        RL   Pave  None       Reg          Lvl    AllPub   \n",
       "3          60        RL   Pave  None       Reg          Lvl    AllPub   \n",
       "4          50        RL   Pave  None       IR1          Lvl    AllPub   \n",
       "\n",
       "  lot_config land_slope neighborhood condition_1 condition_2 bldg_type  \\\n",
       "0    CulDSac        Gtl       Sawyer        RRAe        Norm      1Fam   \n",
       "1    CulDSac        Gtl      SawyerW        Norm        Norm      1Fam   \n",
       "2     Inside        Gtl        NAmes        Norm        Norm      1Fam   \n",
       "3     Inside        Gtl       Timber        Norm        Norm      1Fam   \n",
       "4     Inside        Gtl      SawyerW        Norm        Norm      1Fam   \n",
       "\n",
       "  house_style roof_style roof_matl exterior_1st exterior_2nd mas_vnr_type  \\\n",
       "0      2Story      Gable   CompShg      HdBoard      Plywood      BrkFace   \n",
       "1      2Story      Gable   CompShg      VinylSd      VinylSd      BrkFace   \n",
       "2      1Story      Gable   CompShg      VinylSd      VinylSd         None   \n",
       "3      2Story      Gable   CompShg      VinylSd      VinylSd         None   \n",
       "4      1.5Fin      Gable   CompShg      Wd Sdng      Plywood         None   \n",
       "\n",
       "  exter_qual exter_cond foundation bsmt_qual bsmt_cond bsmt_exposure  \\\n",
       "0         Gd         TA     CBlock        TA        TA            No   \n",
       "1         Gd         TA      PConc        Gd        TA            No   \n",
       "2         TA         Gd     CBlock        TA        TA            No   \n",
       "3         TA         TA      PConc        Gd        TA            No   \n",
       "4         TA         TA      PConc        Fa        Gd            No   \n",
       "\n",
       "  bsmtfin_type_1 bsmtfin_type_2 heating heating_qc central_air electrical  \\\n",
       "0            GLQ            Unf    GasA         Ex           Y      SBrkr   \n",
       "1            GLQ            Unf    GasA         Ex           Y      SBrkr   \n",
       "2            GLQ            Unf    GasA         TA           Y      SBrkr   \n",
       "3            Unf            Unf    GasA         Gd           Y      SBrkr   \n",
       "4            Unf            Unf    GasA         TA           Y      SBrkr   \n",
       "\n",
       "  kitchen_qual functional fireplace_qu garage_type garage_finish garage_qual  \\\n",
       "0           Gd        Typ         None      Attchd           RFn          TA   \n",
       "1           Gd        Typ           TA      Attchd           RFn          TA   \n",
       "2           Gd        Typ         None      Detchd           Unf          TA   \n",
       "3           TA        Typ         None     BuiltIn           Fin          TA   \n",
       "4           TA        Typ         None      Detchd           Unf          TA   \n",
       "\n",
       "  garage_cond paved_drive pool_qc fence misc_feature sale_type  \n",
       "0          TA           Y    None  None         None       WD   \n",
       "1          TA           Y    None  None         None       WD   \n",
       "2          TA           Y    None  None         None       WD   \n",
       "3          TA           Y    None  None         None       WD   \n",
       "4          TA           N    None  None         None       WD   "
      ]
     },
     "execution_count": 2,
     "metadata": {},
     "output_type": "execute_result"
    }
   ],
   "source": [
    "ames = pd.read_csv('../datasets/train_clean.csv', dtype={'ms_subclass': str, 'pid': str})\n",
    "ames.head()"
   ]
  },
  {
   "cell_type": "markdown",
   "id": "9ca47b95-403e-4622-a1b1-5bbc76022447",
   "metadata": {},
   "source": [
    "## Model 1: Scaled Benchmarked Model"
   ]
  },
  {
   "cell_type": "markdown",
   "id": "cc2e21f0-9c22-4267-982b-abc5fab12f3b",
   "metadata": {},
   "source": [
    "### Model Preparation"
   ]
  },
  {
   "cell_type": "code",
   "execution_count": 3,
   "id": "4fb6cb0d-9a34-496c-af14-aa4588788a5b",
   "metadata": {},
   "outputs": [],
   "source": [
    "# Features\n",
    "features = ['overall_qual', 'year_built', 'year_remod/add', 'mas_vnr_area', 'bsmtfin_sf_1',\n",
    "            'total_bsmt_sf', '1st_flr_sf', 'gr_liv_area', 'full_bath', 'totrms_abvgrd',\n",
    "            'garage_yr_blt', 'garage_cars', 'garage_area', 'bedroom_abvgr', 'fireplaces']\n",
    "X = ames[features]\n",
    "\n",
    "# Target\n",
    "y = ames['saleprice']"
   ]
  },
  {
   "cell_type": "code",
   "execution_count": 4,
   "id": "efee2150-3059-44bd-a716-3ffbac57cea1",
   "metadata": {},
   "outputs": [],
   "source": [
    "# Train / Test split\n",
    "X_train, X_test, y_train, y_test = train_test_split(X, y, train_size=0.70, random_state=42)"
   ]
  },
  {
   "cell_type": "code",
   "execution_count": 5,
   "id": "e49113f1-958b-4bd5-bf37-8ce40c42a3a2",
   "metadata": {},
   "outputs": [],
   "source": [
    "# instantiate Linear Regression model\n",
    "model = LinearRegression()"
   ]
  },
  {
   "cell_type": "markdown",
   "id": "984b6909-c9b4-4c87-9034-8759ce403d02",
   "metadata": {},
   "source": [
    "### Preprocessing"
   ]
  },
  {
   "cell_type": "code",
   "execution_count": 6,
   "id": "3d8fd2eb-4017-42f2-a610-b7e8938a504d",
   "metadata": {},
   "outputs": [],
   "source": [
    "# initialize standard scaler\n",
    "ss = StandardScaler()\n",
    "\n",
    "# Fit and transform train data\n",
    "X_train_sc = ss.fit_transform(X_train)\n",
    "\n",
    "# Transform test data\n",
    "X_test_sc = ss.transform(X_test)"
   ]
  },
  {
   "cell_type": "markdown",
   "id": "dab93cb3-e079-4c9a-b203-4869beec7c68",
   "metadata": {},
   "source": [
    "### Model Fitting and Evaluation"
   ]
  },
  {
   "cell_type": "code",
   "execution_count": 7,
   "id": "aae2f1d2-c80f-4570-956e-f569eb3f6867",
   "metadata": {},
   "outputs": [
    {
     "data": {
      "text/plain": [
       "0.7561820214222157"
      ]
     },
     "execution_count": 7,
     "metadata": {},
     "output_type": "execute_result"
    }
   ],
   "source": [
    "# cross validate scaled model (R-squared)\n",
    "model_scores = cross_val_score(model, X_train_sc, y_train, cv = 5)\n",
    "model_scores.mean()"
   ]
  },
  {
   "cell_type": "code",
   "execution_count": 8,
   "id": "42363436-f560-4495-9671-02410bcae41d",
   "metadata": {},
   "outputs": [
    {
     "data": {
      "text/plain": [
       "LinearRegression()"
      ]
     },
     "execution_count": 8,
     "metadata": {},
     "output_type": "execute_result"
    }
   ],
   "source": [
    "# Fit model on scaled train data\n",
    "model.fit(X_train_sc, y_train)"
   ]
  },
  {
   "cell_type": "code",
   "execution_count": 9,
   "id": "ea0b8ab4-ec5b-4da1-a3e4-28e2521001ae",
   "metadata": {},
   "outputs": [
    {
     "data": {
      "text/plain": [
       "overall_qual      27932.535065\n",
       "year_built         5830.971023\n",
       "year_remod/add     7282.586992\n",
       "mas_vnr_area       5725.586993\n",
       "bsmtfin_sf_1       7328.775974\n",
       "total_bsmt_sf      3320.748567\n",
       "1st_flr_sf         3248.427982\n",
       "gr_liv_area       15572.708811\n",
       "full_bath          -864.927537\n",
       "totrms_abvgrd      6454.119014\n",
       "garage_yr_blt     -4482.308859\n",
       "garage_cars        7235.522549\n",
       "garage_area        6047.326694\n",
       "bedroom_abvgr     -2975.634085\n",
       "fireplaces         6410.760084\n",
       "dtype: float64"
      ]
     },
     "execution_count": 9,
     "metadata": {},
     "output_type": "execute_result"
    }
   ],
   "source": [
    "# model coefficients\n",
    "pd.Series(model.coef_, index = features)"
   ]
  },
  {
   "cell_type": "markdown",
   "id": "09b06b46-740d-4a32-9bc7-3ad6a2d34dd9",
   "metadata": {},
   "source": [
    "Bedrooms, bathrooms, and when the garage was built still appears to have a negative effect on sale price."
   ]
  },
  {
   "cell_type": "code",
   "execution_count": 10,
   "id": "58693448-f74e-4d67-86bf-f54d7f6a4e68",
   "metadata": {},
   "outputs": [
    {
     "data": {
      "text/plain": [
       "overall_qual        1.434843\n",
       "year_built         30.108185\n",
       "year_remod/add     20.956561\n",
       "mas_vnr_area      175.892090\n",
       "bsmtfin_sf_1      473.070415\n",
       "total_bsmt_sf     458.680880\n",
       "1st_flr_sf        405.430268\n",
       "gr_liv_area       509.667481\n",
       "full_bath           0.555886\n",
       "totrms_abvgrd       1.569697\n",
       "garage_yr_blt     449.288916\n",
       "garage_cars         0.761413\n",
       "garage_area       217.581331\n",
       "bedroom_abvgr       0.819512\n",
       "fireplaces          0.634872\n",
       "dtype: float64"
      ]
     },
     "execution_count": 10,
     "metadata": {},
     "output_type": "execute_result"
    }
   ],
   "source": [
    "# standard deviation of coefficients\n",
    "pd.Series(ss.scale_, index = features)"
   ]
  },
  {
   "cell_type": "code",
   "execution_count": 11,
   "id": "49556edd-6cda-461c-a60c-5165ad81c6c4",
   "metadata": {},
   "outputs": [
    {
     "data": {
      "text/plain": [
       "0.791288070190293"
      ]
     },
     "execution_count": 11,
     "metadata": {},
     "output_type": "execute_result"
    }
   ],
   "source": [
    "# score train data (R-Squared)\n",
    "model.score(X_train_sc, y_train)"
   ]
  },
  {
   "cell_type": "code",
   "execution_count": 12,
   "id": "c2679127-d933-47ac-8edd-7f89a2cd3fe8",
   "metadata": {},
   "outputs": [
    {
     "data": {
      "text/plain": [
       "0.8570186287354395"
      ]
     },
     "execution_count": 12,
     "metadata": {},
     "output_type": "execute_result"
    }
   ],
   "source": [
    "# score test data (R-Squared)\n",
    "model.score(X_test_sc, y_test)"
   ]
  },
  {
   "cell_type": "markdown",
   "id": "52a1a952-b1ca-48af-bfce-bfc29c2ee691",
   "metadata": {},
   "source": [
    "Same results as benchmark model"
   ]
  },
  {
   "cell_type": "code",
   "execution_count": 47,
   "id": "6828c51d-5ef2-4e12-8d16-bb79f9edb7bb",
   "metadata": {},
   "outputs": [
    {
     "name": "stdout",
     "output_type": "stream",
     "text": [
      "Train Evaluation\n",
      "MAE:  22759.015179009173\n",
      "MSE:  1337090347.1448555\n",
      "RMSE:  36566.24600837302\n"
     ]
    }
   ],
   "source": [
    "# MAE, MSE and RSME for Train data\n",
    "y_pred = model.predict(X_train_sc)\n",
    "\n",
    "print(\"Train Evaluation\")\n",
    "print(\"MAE: \", mean_absolute_error(y_train, y_pred))\n",
    "print(\"MSE: \", mean_squared_error(y_train, y_pred))\n",
    "print(\"RMSE: \", np.sqrt(mean_squared_error(y_train, y_pred)))"
   ]
  },
  {
   "cell_type": "code",
   "execution_count": 13,
   "id": "ad4c16b7-9853-44a2-b19f-7c8e26cfc46a",
   "metadata": {},
   "outputs": [
    {
     "name": "stdout",
     "output_type": "stream",
     "text": [
      "Test Evaluation\n",
      "MAE:  21484.83223565343\n",
      "MSE:  854660706.9730763\n",
      "RMSE:  29234.58067038206\n"
     ]
    }
   ],
   "source": [
    "# MAE, MSE and RSME for Test data\n",
    "y_pred = model.predict(X_test_sc)\n",
    "\n",
    "print(\"Test Evaluation\")\n",
    "print(\"MAE: \", mean_absolute_error(y_test, y_pred))\n",
    "print(\"MSE: \", mean_squared_error(y_test, y_pred))\n",
    "print(\"RMSE: \", np.sqrt(mean_squared_error(y_test, y_pred)))"
   ]
  },
  {
   "cell_type": "markdown",
   "id": "0ab7ce68-7fa6-4ba7-9f39-8ea6471d67e5",
   "metadata": {},
   "source": [
    "Same results as benchmark model"
   ]
  },
  {
   "cell_type": "markdown",
   "id": "5fc3d8f7-9d99-4e0a-aab4-1f43f6e6b6b7",
   "metadata": {
    "tags": []
   },
   "source": [
    "## Model 2: All Positively Correlated Data to Sale Price"
   ]
  },
  {
   "cell_type": "markdown",
   "id": "f4206ef7-dc1c-4d2b-a1b0-b8177e8fc904",
   "metadata": {},
   "source": [
    "### Model Preparation"
   ]
  },
  {
   "cell_type": "code",
   "execution_count": 15,
   "id": "b8213a8c-de88-43a0-8e19-183e69d1f5a3",
   "metadata": {},
   "outputs": [],
   "source": [
    "# Features from previous model plus all other positively correlated columns to sale price.\n",
    "features = ['overall_qual', 'year_built', 'year_remod/add', 'mas_vnr_area', 'bsmtfin_sf_1',\n",
    "            'total_bsmt_sf', '1st_flr_sf', 'gr_liv_area', 'full_bath', 'totrms_abvgrd',\n",
    "            'garage_yr_blt', 'garage_cars', 'garage_area', 'bedroom_abvgr', 'fireplaces','lot_frontage',\n",
    "            'lot_area', 'bsmtfin_sf_2', 'bsmt_unf_sf', '2nd_flr_sf', 'bsmt_full_bath', 'half_bath', 'wood_deck_sf',\n",
    "            'open_porch_sf', '3ssn_porch', 'screen_porch', 'pool_area', 'mo_sold']\n",
    "X = ames[features]\n",
    "\n",
    "# Target\n",
    "y = ames['saleprice']"
   ]
  },
  {
   "cell_type": "code",
   "execution_count": 16,
   "id": "e74bee1a-4959-4203-8fbc-da502cfa18bf",
   "metadata": {},
   "outputs": [],
   "source": [
    "# Train / Test split\n",
    "X_train, X_test, y_train, y_test = train_test_split(X, y, train_size=0.70, random_state=42)"
   ]
  },
  {
   "cell_type": "code",
   "execution_count": 17,
   "id": "995a76ba-8dd6-417f-83e2-2b763db4fca8",
   "metadata": {},
   "outputs": [],
   "source": [
    "# instantiate Linear Regression model\n",
    "model = LinearRegression()"
   ]
  },
  {
   "cell_type": "markdown",
   "id": "fd4c86c1-0182-457e-9f50-95cfd974ff7e",
   "metadata": {},
   "source": [
    "### Preprocessing"
   ]
  },
  {
   "cell_type": "code",
   "execution_count": 19,
   "id": "45d9de83-16fe-4c5f-807f-0ae6c1faa38c",
   "metadata": {},
   "outputs": [],
   "source": [
    "# initialize standard scaler\n",
    "ss = StandardScaler()\n",
    "\n",
    "# Fit and transform train data\n",
    "X_train_sc = ss.fit_transform(X_train)\n",
    "\n",
    "# Transform test data\n",
    "X_test_sc = ss.transform(X_test)"
   ]
  },
  {
   "cell_type": "markdown",
   "id": "e15f95f1-14b3-4e3d-bb8c-5d1a2556fa88",
   "metadata": {},
   "source": [
    "### Model Fitting and Evaluation"
   ]
  },
  {
   "cell_type": "code",
   "execution_count": 21,
   "id": "b6794845-9da2-4b2d-9341-32134dc326e5",
   "metadata": {},
   "outputs": [
    {
     "data": {
      "text/plain": [
       "0.7551496148975383"
      ]
     },
     "execution_count": 21,
     "metadata": {},
     "output_type": "execute_result"
    }
   ],
   "source": [
    "# Cross validate model (R-squared)\n",
    "model_scores = cross_val_score(model, X_train_sc, y_train, cv=5)\n",
    "model_scores.mean()"
   ]
  },
  {
   "cell_type": "code",
   "execution_count": 22,
   "id": "68bd716e-9730-492c-b527-2d42de73997c",
   "metadata": {},
   "outputs": [
    {
     "data": {
      "text/plain": [
       "LinearRegression()"
      ]
     },
     "execution_count": 22,
     "metadata": {},
     "output_type": "execute_result"
    }
   ],
   "source": [
    "# Fit model on training data\n",
    "model.fit(X_train_sc, y_train)"
   ]
  },
  {
   "cell_type": "code",
   "execution_count": 23,
   "id": "0b83abe1-b751-4db0-98bc-e3d5fcb601c0",
   "metadata": {},
   "outputs": [
    {
     "data": {
      "text/plain": [
       "overall_qual      28449.667717\n",
       "year_built         7508.896111\n",
       "year_remod/add     7024.058828\n",
       "mas_vnr_area       5652.661029\n",
       "bsmtfin_sf_1       3668.170379\n",
       "total_bsmt_sf      3784.384854\n",
       "1st_flr_sf         5587.343069\n",
       "gr_liv_area        8661.303343\n",
       "full_bath          -244.709952\n",
       "totrms_abvgrd      7346.154043\n",
       "garage_yr_blt     -4040.248603\n",
       "garage_cars        5781.192385\n",
       "garage_area        5193.214429\n",
       "bedroom_abvgr     -3553.080404\n",
       "fireplaces         5518.495231\n",
       "lot_frontage        370.254572\n",
       "lot_area           5775.007450\n",
       "bsmtfin_sf_2       1153.068485\n",
       "bsmt_unf_sf        -447.300067\n",
       "2nd_flr_sf         5748.356030\n",
       "bsmt_full_bath     4627.127805\n",
       "half_bath         -1949.935074\n",
       "wood_deck_sf       2240.823247\n",
       "open_porch_sf      -317.616282\n",
       "3ssn_porch         1064.928312\n",
       "screen_porch       5945.450355\n",
       "pool_area         -5764.348645\n",
       "mo_sold             629.470965\n",
       "dtype: float64"
      ]
     },
     "execution_count": 23,
     "metadata": {},
     "output_type": "execute_result"
    }
   ],
   "source": [
    "# model coefficients\n",
    "pd.Series(model.coef_, index = features)"
   ]
  },
  {
   "cell_type": "markdown",
   "id": "edac63e3-e2af-4ff0-b7d4-62ea0c69067a",
   "metadata": {},
   "source": [
    "It appears that adding half baths and pool area have a negative effect on sale price as well."
   ]
  },
  {
   "cell_type": "code",
   "execution_count": 25,
   "id": "9b1209de-cd9b-4852-9d12-b329cd8cf10a",
   "metadata": {},
   "outputs": [
    {
     "data": {
      "text/plain": [
       "180717.9693379791"
      ]
     },
     "execution_count": 25,
     "metadata": {},
     "output_type": "execute_result"
    }
   ],
   "source": [
    "# model intercept\n",
    "model.intercept_"
   ]
  },
  {
   "cell_type": "markdown",
   "id": "c2ef8b86-14f4-474e-89c5-81187eec2d26",
   "metadata": {},
   "source": [
    "If all features were set to 0, the price of home would be $180,717"
   ]
  },
  {
   "cell_type": "code",
   "execution_count": 27,
   "id": "d6d95fc6-cbf8-459c-979d-1fa986d32784",
   "metadata": {},
   "outputs": [
    {
     "data": {
      "text/plain": [
       "0.8077915384043867"
      ]
     },
     "execution_count": 27,
     "metadata": {},
     "output_type": "execute_result"
    }
   ],
   "source": [
    "# score model on training data (R-squared)\n",
    "model.score(X_train_sc, y_train)"
   ]
  },
  {
   "cell_type": "code",
   "execution_count": 28,
   "id": "4cce7f80-14c2-44c5-bd10-168a9420c6bd",
   "metadata": {},
   "outputs": [
    {
     "data": {
      "text/plain": [
       "0.8508710690004339"
      ]
     },
     "execution_count": 28,
     "metadata": {},
     "output_type": "execute_result"
    }
   ],
   "source": [
    "# Score model on test data (R-squared)\n",
    "model.score(X_test_sc, y_test)"
   ]
  },
  {
   "cell_type": "markdown",
   "id": "3ab52a45-f259-4d3e-9c16-1a038fbcb49f",
   "metadata": {},
   "source": [
    "Model did better on test data than train data, which means the model is not overfitting. The new model with all positively correlated data did better than the benchmark in the train data, but did slightly worse than the benchmark on the test data."
   ]
  },
  {
   "cell_type": "code",
   "execution_count": 30,
   "id": "a76e0123-46b5-4cfd-a633-cafeb9f4d71f",
   "metadata": {},
   "outputs": [
    {
     "name": "stdout",
     "output_type": "stream",
     "text": [
      "Train Evaluation\n",
      "MAE:  22009.44838292095\n",
      "MSE:  1231362667.5455346\n",
      "RMSE:  35090.77752836968\n"
     ]
    }
   ],
   "source": [
    "# MAE, MSE and RSME for Train data\n",
    "y_pred = model.predict(X_train_sc)\n",
    "\n",
    "print(\"Train Evaluation\")\n",
    "print(\"MAE: \", mean_absolute_error(y_train, y_pred))\n",
    "print(\"MSE: \", mean_squared_error(y_train, y_pred))\n",
    "print(\"RMSE: \", np.sqrt(mean_squared_error(y_train, y_pred)))"
   ]
  },
  {
   "cell_type": "code",
   "execution_count": 32,
   "id": "2090bc6a-213c-474f-9f3f-a34582d4432c",
   "metadata": {},
   "outputs": [
    {
     "name": "stdout",
     "output_type": "stream",
     "text": [
      "Test Evaluation\n",
      "MAE:  21589.027304627678\n",
      "MSE:  891407296.4260302\n",
      "RMSE:  29856.44480553621\n"
     ]
    }
   ],
   "source": [
    "# MAE, MSE and RSME for Test data\n",
    "y_pred = model.predict(X_test_sc)\n",
    "\n",
    "print(\"Test Evaluation\")\n",
    "print(\"MAE: \", mean_absolute_error(y_test, y_pred))\n",
    "print(\"MSE: \", mean_squared_error(y_test, y_pred))\n",
    "print(\"RMSE: \", np.sqrt(mean_squared_error(y_test, y_pred)))"
   ]
  },
  {
   "cell_type": "markdown",
   "id": "e7f4bfff-bedd-45b0-b61f-6db8952929cf",
   "metadata": {},
   "source": [
    "Model performs better on train data and gets closer to zero. No overfitting. New model does slightly worse than benchmark model on the train and test data, slight underfitting. "
   ]
  },
  {
   "cell_type": "markdown",
   "id": "c3a8fd55-7e84-4d73-a705-554eaebb9d0e",
   "metadata": {},
   "source": [
    "## Model 3: Add Categorical Features"
   ]
  },
  {
   "cell_type": "markdown",
   "id": "47ef5fdd-4251-4e81-9a3d-0a136ac553d5",
   "metadata": {
    "tags": []
   },
   "source": [
    "### Model Preparation & Preprocessing"
   ]
  },
  {
   "cell_type": "code",
   "execution_count": 33,
   "id": "87582431-42d2-40cf-a438-d34704c14ec9",
   "metadata": {},
   "outputs": [],
   "source": [
    "# Features from previous model plus all categorical features\n",
    "features = ['overall_qual', 'year_built', 'year_remod/add', 'mas_vnr_area', 'bsmtfin_sf_1',\n",
    "            'total_bsmt_sf', '1st_flr_sf', 'gr_liv_area', 'full_bath', 'totrms_abvgrd',\n",
    "            'garage_yr_blt', 'garage_cars', 'garage_area', 'bedroom_abvgr', 'fireplaces','lot_frontage',\n",
    "            'lot_area', 'bsmtfin_sf_2', 'bsmt_unf_sf', '2nd_flr_sf', 'bsmt_full_bath', 'half_bath', 'wood_deck_sf',\n",
    "            'open_porch_sf', '3ssn_porch', 'screen_porch', 'pool_area', 'mo_sold', 'ms_subclass', 'ms_zoning', 'utilities', 'lot_config',\n",
    "            'neighborhood', 'bldg_type', 'house_style', 'roof_style', 'roof_matl', 'exter_qual', 'exter_cond', 'foundation',\n",
    "            'bsmt_qual', 'bsmt_cond', 'bsmt_exposure', 'bsmtfin_type_1', 'heating', 'heating_qc', 'central_air', 'electrical',\n",
    "            'kitchen_qual', 'fireplace_qu', 'garage_type', 'garage_finish', 'garage_qual', 'garage_cond', 'pool_qc']\n",
    "X = ames[features]\n",
    "\n",
    "# One Hot Encode Categorical Features\n",
    "enc = OneHotEncoder(drop='first', sparse=False)\n",
    "X = enc.fit_transform(X)\n",
    "\n",
    "# Target\n",
    "y = ames['saleprice']"
   ]
  },
  {
   "cell_type": "code",
   "execution_count": 34,
   "id": "11bbb14c-ab3d-4655-a3c2-cb3a5003bc85",
   "metadata": {},
   "outputs": [],
   "source": [
    "# Train / Test split\n",
    "X_train, X_test, y_train, y_test = train_test_split(X, y, train_size=0.70, random_state=42)"
   ]
  },
  {
   "cell_type": "code",
   "execution_count": 35,
   "id": "15c52cb1-9fe4-4719-8309-5918441ff55a",
   "metadata": {},
   "outputs": [],
   "source": [
    "# instantiate Linear Regression model\n",
    "model = LinearRegression()"
   ]
  },
  {
   "cell_type": "code",
   "execution_count": 36,
   "id": "ddf96f70-a453-42d7-931d-8e6825cd7ea8",
   "metadata": {},
   "outputs": [],
   "source": [
    "# initialize standard scaler\n",
    "ss = StandardScaler()\n",
    "\n",
    "# Fit and transform train data\n",
    "X_train_sc = ss.fit_transform(X_train)\n",
    "\n",
    "# Transform test data\n",
    "X_test_sc = ss.transform(X_test)"
   ]
  },
  {
   "cell_type": "markdown",
   "id": "777776d4-1e8f-4755-9183-51ce68cf52fb",
   "metadata": {
    "tags": []
   },
   "source": [
    "### Model Fitting and Evaluation"
   ]
  },
  {
   "cell_type": "code",
   "execution_count": 37,
   "id": "d81de2ed-a48b-45f7-8e8e-6a1a2cdb7e63",
   "metadata": {},
   "outputs": [
    {
     "data": {
      "text/plain": [
       "0.6314266820607954"
      ]
     },
     "execution_count": 37,
     "metadata": {},
     "output_type": "execute_result"
    }
   ],
   "source": [
    "# Cross validate model (R-squared)\n",
    "model_scores = cross_val_score(model, X_train_sc, y_train, cv = 5)\n",
    "model_scores.mean()"
   ]
  },
  {
   "cell_type": "markdown",
   "id": "4b4b8ec8-a25d-46b1-af2a-29325046b73b",
   "metadata": {},
   "source": [
    "Does worse than model 2 and 3."
   ]
  },
  {
   "cell_type": "code",
   "execution_count": 38,
   "id": "a3769cd0-430b-4e71-8926-ba84964eac0d",
   "metadata": {},
   "outputs": [
    {
     "data": {
      "text/plain": [
       "LinearRegression()"
      ]
     },
     "execution_count": 38,
     "metadata": {},
     "output_type": "execute_result"
    }
   ],
   "source": [
    "# fit model on scaled data\n",
    "model.fit(X_train_sc, y_train)"
   ]
  },
  {
   "cell_type": "code",
   "execution_count": 39,
   "id": "3896d756-801a-4891-bdc4-1f48f328d277",
   "metadata": {},
   "outputs": [
    {
     "data": {
      "text/plain": [
       "1.0"
      ]
     },
     "execution_count": 39,
     "metadata": {},
     "output_type": "execute_result"
    }
   ],
   "source": [
    "# Score model on train data (R-squared)\n",
    "model.score(X_train_sc, y_train)"
   ]
  },
  {
   "cell_type": "code",
   "execution_count": 40,
   "id": "a8398fa0-90b4-4913-a92b-82e6b0fcfd82",
   "metadata": {},
   "outputs": [
    {
     "data": {
      "text/plain": [
       "0.7366648102320235"
      ]
     },
     "execution_count": 40,
     "metadata": {},
     "output_type": "execute_result"
    }
   ],
   "source": [
    "# Score model on test data (R-squared)\n",
    "model.score(X_test_sc, y_test)"
   ]
  },
  {
   "cell_type": "markdown",
   "id": "0bf878ef-f0ab-4d5e-9ef5-be9f05416b52",
   "metadata": {},
   "source": [
    "Overfitting occuring. Model is only slightly worse than model 1 and 2. "
   ]
  },
  {
   "cell_type": "code",
   "execution_count": 41,
   "id": "4a46d536-841a-478a-9f33-d06c7b5c7265",
   "metadata": {},
   "outputs": [
    {
     "name": "stdout",
     "output_type": "stream",
     "text": [
      "Train Evaluation\n",
      "MAE:  2.9934354399035616e-10\n",
      "MSE:  2.369937684064157e-19\n",
      "RMSE:  4.86820057522711e-10\n"
     ]
    }
   ],
   "source": [
    "# MAE, MSE and RSME for Train data\n",
    "y_pred = model.predict(X_train_sc)\n",
    "\n",
    "print(\"Train Evaluation\")\n",
    "print(\"MAE: \", mean_absolute_error(y_train, y_pred))\n",
    "print(\"MSE: \", mean_squared_error(y_train, y_pred))\n",
    "print(\"RMSE: \", np.sqrt(mean_squared_error(y_train, y_pred)))"
   ]
  },
  {
   "cell_type": "code",
   "execution_count": 42,
   "id": "ecb28fa6-a0ab-4831-94e5-4f4f8cd6cfba",
   "metadata": {},
   "outputs": [
    {
     "name": "stdout",
     "output_type": "stream",
     "text": [
      "Test Evaluation\n",
      "MAE:  25397.919115760804\n",
      "MSE:  1574066869.46338\n",
      "RMSE:  39674.5115844339\n"
     ]
    }
   ],
   "source": [
    "# MAE, MSE and RSME for Test data\n",
    "y_pred = model.predict(X_test_sc)\n",
    "\n",
    "print(\"Test Evaluation\")\n",
    "print(\"MAE: \", mean_absolute_error(y_test, y_pred))\n",
    "print(\"MSE: \", mean_squared_error(y_test, y_pred))\n",
    "print(\"RMSE: \", np.sqrt(mean_squared_error(y_test, y_pred)))"
   ]
  },
  {
   "cell_type": "markdown",
   "id": "298a5e19-f63c-4dba-ba23-483e48c7adf5",
   "metadata": {},
   "source": [
    "Model is clearly overfitting and performs slighlty worse than previous 2 models."
   ]
  },
  {
   "cell_type": "markdown",
   "id": "a9837459-a4d1-484e-b4ff-7c40d70d4335",
   "metadata": {},
   "source": [
    "## Model 4: Remove Features"
   ]
  },
  {
   "cell_type": "markdown",
   "id": "5d63a029-7e60-427f-8246-c0ee14787d9d",
   "metadata": {},
   "source": [
    "### Model Preparation & Preprocessing"
   ]
  },
  {
   "cell_type": "code",
   "execution_count": 43,
   "id": "ee4bf0af-4528-456d-982d-100e9d0cee07",
   "metadata": {},
   "outputs": [],
   "source": [
    "# Features from previous model minus features deemed to be not as prominant to sale price\n",
    "# Decided based on previous experience as a realtor\n",
    "features = ['overall_qual', 'year_built', 'year_remod/add', 'mas_vnr_area', 'bsmtfin_sf_1',\n",
    "            'total_bsmt_sf', '1st_flr_sf', 'gr_liv_area', 'full_bath', 'totrms_abvgrd', 'garage_cars', 'garage_area', 'bedroom_abvgr', \n",
    "            'fireplaces','lot_frontage', 'lot_area', 'bsmtfin_sf_2', 'bsmt_unf_sf', '2nd_flr_sf', 'bsmt_full_bath', 'half_bath', \n",
    "            'wood_deck_sf', 'open_porch_sf', 'utilities', 'lot_config', 'neighborhood', 'bldg_type', 'exter_qual', 'exter_cond', 'foundation',\n",
    "            'bsmt_qual', 'bsmt_cond', 'bsmtfin_type_1', 'heating', 'heating_qc', 'central_air', 'electrical',\n",
    "            'kitchen_qual', 'fireplace_qu', 'garage_type', 'garage_finish', 'garage_qual', 'garage_cond']\n",
    "X = ames[features]\n",
    "\n",
    "# One Hot Encode Categorical Features\n",
    "enc = OneHotEncoder(drop='first', sparse=False)\n",
    "X = enc.fit_transform(X)\n",
    "\n",
    "# Target\n",
    "y = ames['saleprice']"
   ]
  },
  {
   "cell_type": "code",
   "execution_count": 44,
   "id": "17826a25-497d-40cf-8f89-ee26c37cbca7",
   "metadata": {},
   "outputs": [],
   "source": [
    "# Train / Test split\n",
    "X_train, X_test, y_train, y_test = train_test_split(X, y, train_size=0.70, random_state=42)"
   ]
  },
  {
   "cell_type": "code",
   "execution_count": 45,
   "id": "2bb2777f-bb7b-4666-8239-de4328b32aab",
   "metadata": {},
   "outputs": [],
   "source": [
    "# instantiate Linear Regression model\n",
    "model = LinearRegression()"
   ]
  },
  {
   "cell_type": "code",
   "execution_count": 46,
   "id": "f3c9409f-e602-459e-b4e7-359eb9e07756",
   "metadata": {},
   "outputs": [],
   "source": [
    "# initialize standard scaler\n",
    "ss = StandardScaler()\n",
    "\n",
    "# Fit and transform train data\n",
    "X_train_sc = ss.fit_transform(X_train)\n",
    "\n",
    "# Transform test data\n",
    "X_test_sc = ss.transform(X_test)"
   ]
  },
  {
   "cell_type": "markdown",
   "id": "60301f9d-8d8a-4f7f-a4d2-11b684fe51cd",
   "metadata": {
    "tags": []
   },
   "source": [
    "### Model Fitting and Evaluation"
   ]
  },
  {
   "cell_type": "code",
   "execution_count": 47,
   "id": "add99b07-0a34-4b5b-897e-4c87e3b3572a",
   "metadata": {},
   "outputs": [
    {
     "data": {
      "text/plain": [
       "0.6192485206709067"
      ]
     },
     "execution_count": 47,
     "metadata": {},
     "output_type": "execute_result"
    }
   ],
   "source": [
    "# Cross validate model (R-squared)\n",
    "model_scores = cross_val_score(model, X_train_sc, y_train, cv = 5)\n",
    "model_scores.mean()"
   ]
  },
  {
   "cell_type": "code",
   "execution_count": 48,
   "id": "bb6b9d84-e3cf-4bd6-a44b-72cf1003e5ed",
   "metadata": {},
   "outputs": [
    {
     "data": {
      "text/plain": [
       "LinearRegression()"
      ]
     },
     "execution_count": 48,
     "metadata": {},
     "output_type": "execute_result"
    }
   ],
   "source": [
    "# fit model on scaled data\n",
    "model.fit(X_train_sc, y_train)"
   ]
  },
  {
   "cell_type": "code",
   "execution_count": 49,
   "id": "2ec259c1-313e-4974-a3e5-5e7c83e8e700",
   "metadata": {},
   "outputs": [
    {
     "data": {
      "text/plain": [
       "1.0"
      ]
     },
     "execution_count": 49,
     "metadata": {},
     "output_type": "execute_result"
    }
   ],
   "source": [
    "# Score model on train data (R-squared)\n",
    "model.score(X_train_sc, y_train)"
   ]
  },
  {
   "cell_type": "code",
   "execution_count": 50,
   "id": "4a564d5b-d75f-49d9-913d-bebe512d1e48",
   "metadata": {},
   "outputs": [
    {
     "data": {
      "text/plain": [
       "0.705546720703113"
      ]
     },
     "execution_count": 50,
     "metadata": {},
     "output_type": "execute_result"
    }
   ],
   "source": [
    "# Score model on test data (R-squared)\n",
    "model.score(X_test_sc, y_test)"
   ]
  },
  {
   "cell_type": "markdown",
   "id": "86a88b7b-2298-4b0c-9768-a8614c88ad43",
   "metadata": {},
   "source": [
    "overfitting occuring. Model is significantly worse than benchmark and other models."
   ]
  },
  {
   "cell_type": "code",
   "execution_count": 51,
   "id": "d1ccd6ed-49cf-47c1-a58f-8d28fb8bb1a1",
   "metadata": {},
   "outputs": [
    {
     "name": "stdout",
     "output_type": "stream",
     "text": [
      "Train Evaluation\n",
      "MAE:  3.0753723563113694e-10\n",
      "MSE:  1.9185960305529876e-19\n",
      "RMSE:  4.3801781134481134e-10\n"
     ]
    }
   ],
   "source": [
    "# MAE, MSE and RSME for Train data\n",
    "y_pred = model.predict(X_train_sc)\n",
    "\n",
    "print(\"Train Evaluation\")\n",
    "print(\"MAE: \", mean_absolute_error(y_train, y_pred))\n",
    "print(\"MSE: \", mean_squared_error(y_train, y_pred))\n",
    "print(\"RMSE: \", np.sqrt(mean_squared_error(y_train, y_pred)))"
   ]
  },
  {
   "cell_type": "code",
   "execution_count": 52,
   "id": "cb1379f2-dedb-485d-a744-3af920a7e32a",
   "metadata": {},
   "outputs": [
    {
     "name": "stdout",
     "output_type": "stream",
     "text": [
      "Test Evaluation\n",
      "MAE:  26654.33227938566\n",
      "MSE:  1760072977.5403566\n",
      "RMSE:  41953.22368472245\n"
     ]
    }
   ],
   "source": [
    "# MAE, MSE and RSME for Test data\n",
    "y_pred = model.predict(X_test_sc)\n",
    "\n",
    "print(\"Test Evaluation\")\n",
    "print(\"MAE: \", mean_absolute_error(y_test, y_pred))\n",
    "print(\"MSE: \", mean_squared_error(y_test, y_pred))\n",
    "print(\"RMSE: \", np.sqrt(mean_squared_error(y_test, y_pred)))"
   ]
  },
  {
   "cell_type": "markdown",
   "id": "4977377e-d8a5-4688-9ed6-8d01b420c15f",
   "metadata": {},
   "source": [
    "Model is overfitting, but by adding more bias and does slightly worse than model 3."
   ]
  }
 ],
 "metadata": {
  "kernelspec": {
   "display_name": "Python [conda env:dsi] *",
   "language": "python",
   "name": "conda-env-dsi-py"
  },
  "language_info": {
   "codemirror_mode": {
    "name": "ipython",
    "version": 3
   },
   "file_extension": ".py",
   "mimetype": "text/x-python",
   "name": "python",
   "nbconvert_exporter": "python",
   "pygments_lexer": "ipython3",
   "version": "3.8.8"
  }
 },
 "nbformat": 4,
 "nbformat_minor": 5
}
